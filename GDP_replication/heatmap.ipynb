{
 "cells": [
  {
   "cell_type": "code",
   "execution_count": 2,
   "metadata": {},
   "outputs": [],
   "source": [
    "import pandas as pd\n",
    "import os\n",
    "import matplotlib.pyplot as plt\n",
    "import geopandas as gpd\n",
    "import contextily as ctx\n",
    "import warnings\n",
    "import folium\n",
    "from folium.plugins import HeatMap\n",
    "from shapely.geometry import Point, Polygon\n",
    "from sklearn.decomposition import PCA\n",
    "\n",
    "warnings.filterwarnings('ignore')"
   ]
  },
  {
   "cell_type": "code",
   "execution_count": 2,
   "metadata": {},
   "outputs": [],
   "source": [
    "# Load Mosaik data\n",
    "csv_file = \"path_to_mosaik_data.csv\"\n",
    "mosaik_data1 = pd.read_csv(\"files/[RAW] Mosaiks_features_1.csv\")\n",
    "mosaik_data2 = pd.read_csv(\"files/[RAW] Mosaiks_features_2.csv\")\n",
    "mosaik_merged = pd.concat([mosaik_data1, mosaik_data2])\n",
    "\n",
    "# Load Shrid Polygon data\n",
    "csv_file = \"path_to_polygon_data.csv\"\n",
    "polygon_data1 = pd.read_csv(\"files/coords_inside_1.csv\")\n",
    "polygon_data2 = pd.read_csv(\"files/coords_inside_2.csv\")\n",
    "polygon_merged = pd.concat([polygon_data1, polygon_data2])"
   ]
  },
  {
   "cell_type": "code",
   "execution_count": 3,
   "metadata": {},
   "outputs": [
    {
     "name": "stdout",
     "output_type": "stream",
     "text": [
      "Merged data saved to output/merged_dataset.csv\n"
     ]
    }
   ],
   "source": [
    "# Merge datasets on 'shrid'\n",
    "data = pd.merge(polygon_merged, mosaik_merged, on=['Lon', 'Lat'], how='inner')\n",
    "\n",
    "# Save the merged dataset\n",
    "output_file = 'output/merged_dataset.csv'\n",
    "data.to_csv(output_file, index=False)\n",
    "print(f\"Merged data saved to {output_file}\")"
   ]
  },
  {
   "cell_type": "code",
   "execution_count": 6,
   "metadata": {},
   "outputs": [],
   "source": [
    "# data = pd.read_csv(\"output/merged_dataset.csv\")"
   ]
  },
  {
   "cell_type": "code",
   "execution_count": null,
   "metadata": {},
   "outputs": [],
   "source": [
    "# Rename columns with MOSAIKS data\n",
    "for i, col in enumerate(data.columns[4:], start=1):\n",
    "    data.rename(columns={col: f\"Mosaik_{i}\"}, inplace=True)\n",
    "data.to_csv(\"output/renamed_features.csv\", index=False)\n",
    "data.head(2)"
   ]
  },
  {
   "cell_type": "code",
   "execution_count": null,
   "metadata": {},
   "outputs": [],
   "source": [
    "# Transform MOSAIKS data using PCA\n",
    "mosaik_features = data.iloc[:, 4:]\n",
    "pca = PCA(n_components=1)\n",
    "data['PCA_1'] = pca.fit_transform(mosaik_features)"
   ]
  },
  {
   "cell_type": "code",
   "execution_count": 16,
   "metadata": {},
   "outputs": [],
   "source": [
    "# Read polygon data containing the village boundaries\n",
    "polygon_data = pd.read_csv(\"files/Mosaik_Shrid_coordinates_Data_Davide_Rahul_Ashesh_Leonard_2024 - Mosaik_Shrid_coordinates_Data_Davide_Rahul_Ashesh_Leonard_2024.csv\")"
   ]
  },
  {
   "cell_type": "code",
   "execution_count": 38,
   "metadata": {},
   "outputs": [],
   "source": [
    "# Draw heatmaps for each village\n",
    "for i in range(1, len(polygon_data) + 1):\n",
    "\tselected_village = i\n",
    "\n",
    "\tselected_data = data[data['Unnamed: 0'] == selected_village]\n",
    "\tselected_polygon = Polygon(eval(polygon_data.iloc[selected_village - 1]['polygon_coordinates']))\n",
    "\n",
    "\tx_min, y_min, x_max, y_max = selected_polygon.bounds\n",
    "\tmap_center = [(y_min + y_max) / 2, (x_min + x_max) / 2]\n",
    "\n",
    "\tm = folium.Map(location=map_center, zoom_start=15)\n",
    "\tsim_geo = gpd.GeoSeries(selected_polygon).simplify(tolerance=0.001)\n",
    "\tgeo_j = sim_geo.to_json()\n",
    "\tgeo_j = folium.GeoJson(data=geo_j, style_function=lambda x: {\"fillOpacity\": \"0%\"})\n",
    "\tfolium.Popup(i).add_to(geo_j)\n",
    "\tgeo_j.add_to(m)\n",
    "\theatmap_data = [[row['Lat'], row['Lon'], row['PCA_1']] for idx, row in selected_data.iterrows() if selected_polygon.contains(Point(row['Lon'], row['Lat']))]\n",
    "\t# heatmap_data = [[row['Lat'], row['Lon'], row['PCA_1']] for idx, row in selected_data.iterrows()]\n",
    "\tHeatMap(heatmap_data).add_to(m)\n",
    "\tm.save(f\"heatmaps/heatmap_{selected_village}.html\")"
   ]
  },
  {
   "cell_type": "code",
   "execution_count": null,
   "metadata": {},
   "outputs": [],
   "source": []
  }
 ],
 "metadata": {
  "kernelspec": {
   "display_name": "Python 3",
   "language": "python",
   "name": "python3"
  },
  "language_info": {
   "codemirror_mode": {
    "name": "ipython",
    "version": 3
   },
   "file_extension": ".py",
   "mimetype": "text/x-python",
   "name": "python",
   "nbconvert_exporter": "python",
   "pygments_lexer": "ipython3",
   "version": "3.11.1"
  }
 },
 "nbformat": 4,
 "nbformat_minor": 2
}
