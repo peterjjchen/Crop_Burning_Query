{
 "cells": [
  {
   "cell_type": "code",
   "execution_count": 1,
   "metadata": {},
   "outputs": [],
   "source": [
    "import pandas as pd\n",
    "import os\n",
    "import matplotlib.pyplot as plt\n",
    "import geopandas as gpd\n",
    "import contextily as ctx\n",
    "import warnings\n",
    "import folium\n",
    "from folium.plugins import HeatMap\n",
    "from shapely.geometry import Point, Polygon\n",
    "from sklearn.decomposition import PCA\n",
    "\n",
    "warnings.filterwarnings('ignore')"
   ]
  },
  {
   "cell_type": "code",
   "execution_count": 9,
   "metadata": {},
   "outputs": [],
   "source": [
    "# Load Mosaik data\n",
    "csv_file = \"output/coords_inside_box.csv\"\n",
    "data = pd.read_csv(csv_file)"
   ]
  },
  {
   "cell_type": "code",
   "execution_count": 10,
   "metadata": {},
   "outputs": [],
   "source": [
    "# Columns with MOSAIKS features\n",
    "mosaik_features = data.iloc[:, 6:-1]\n",
    "\n",
    "# Transform each 4000 MOSAIKS values into a single value using PCA\n",
    "pca = PCA(n_components=1)\n",
    "data['PCA_1'] = pca.fit_transform(mosaik_features)"
   ]
  },
  {
   "cell_type": "code",
   "execution_count": 27,
   "metadata": {},
   "outputs": [],
   "source": [
    "# Load the shapefile containing the village polygons\n",
    "polygon_data = gpd.read_file(\"villages_shapefiles/villages_shapefiles.shp\")\n",
    "\n",
    "# Find all unique village IDs\n",
    "v_shp_ids = data['v_shp_id'].unique()\n",
    "\n",
    "# Ensure the 'v_shp_id' column is of type int for both dataframes\n",
    "polygon_data['v_shp_id'] = polygon_data['v_shp_id'].astype(int)"
   ]
  },
  {
   "cell_type": "code",
   "execution_count": 49,
   "metadata": {},
   "outputs": [],
   "source": [
    "# Convert all the data into heatmaps\n",
    "for i in range(len(v_shp_ids)):\n",
    "\tselected_village = v_shp_ids[i]\n",
    "\n",
    "\tselected_data = data[data['v_shp_id'] == selected_village]\n",
    "\tselected_polygon = Polygon(polygon_data[polygon_data['v_shp_id'] == int(selected_village)].iloc[0]['geometry'])\n",
    "\n",
    "\tx_min, y_min, x_max, y_max = selected_polygon.bounds\n",
    "\tmap_center = [(y_min + y_max) / 2, (x_min + x_max) / 2]\n",
    "\n",
    "\tm = folium.Map(location=map_center, zoom_start=15)\n",
    "\tsim_geo = gpd.GeoSeries(selected_polygon).simplify(tolerance=0.001)\n",
    "\tgeo_j = sim_geo.to_json()\n",
    "\tgeo_j = folium.GeoJson(data=geo_j, style_function=lambda x: {\"fillOpacity\": \"0%\"})\n",
    "\tfolium.Popup(i).add_to(geo_j)\n",
    "\tgeo_j.add_to(m)\n",
    "\n",
    "\t# Uncomment to draw heatmaps for fine grain version (coords inside polygon)\n",
    "\t# heatmap_data = [[row['lat'], row['lon'], row['PCA_1']] for idx, row in selected_data.iterrows() if selected_polygon.contains(Point(row['lon'], row['lat']))]\n",
    "\n",
    "\t# Heatmap for coords inside box\n",
    "\theatmap_data = [[row['lat'], row['lon'], row['PCA_1']] for idx, row in selected_data.iterrows()]\n",
    "\tHeatMap(heatmap_data).add_to(m)\n",
    "\t\n",
    "\tm.save(f\"heatmaps_box/heatmap_{selected_village}.html\")\n",
    "\t# m.save(f\"heatmaps/heatmap_{selected_village}.html\")"
   ]
  },
  {
   "cell_type": "code",
   "execution_count": null,
   "metadata": {},
   "outputs": [],
   "source": []
  }
 ],
 "metadata": {
  "kernelspec": {
   "display_name": "Python 3",
   "language": "python",
   "name": "python3"
  },
  "language_info": {
   "codemirror_mode": {
    "name": "ipython",
    "version": 3
   },
   "file_extension": ".py",
   "mimetype": "text/x-python",
   "name": "python",
   "nbconvert_exporter": "python",
   "pygments_lexer": "ipython3",
   "version": "3.11.1"
  }
 },
 "nbformat": 4,
 "nbformat_minor": 2
}
